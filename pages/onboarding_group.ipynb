{
 "cells": [
  {
   "cell_type": "markdown",
   "metadata": {
    "tags": []
   },
   "source": [
    "# How to onboard a new Group/Team to Operate First\n",
    "This guide explains how you can onboard a new group to the Operate First clusters. \n",
    "\n",
    ":::{seealso}\n",
    "\n",
    "For more information about the Operate First see [Getting started with Operate First](references:operate-first-start)\n",
    ":::\n",
    "\n",
    "## Prerequisites\n",
    "- There are no prerequisites.\n",
    "\n",
    "\n",
    "## Outcomes\n",
    "\n",
    "- [ ] A pull request against the `operate-first/apps` repository.\n",
    "\n",
    "The PR enables Operate First to:\n",
    "\n",
    "- [ ] Create a group on the Operate First fleet of clusters.\n",
    "- [ ] Add desired users as to the created group.\n",
    "\n",
    "## Introduction\n",
    "\n",
    "All manifests for all the workloads owned by Operate First Ops team are maintained in the `operate-first/apps` repository following the [Kustomize best practices](https://kubernetes.io/docs/tasks/manage-kubernetes-objects/kustomization/).\n",
    "\n",
    "The `cluster-scope` folder in this repo stores all privileged resources that are usually not allowed to be deployed by regular project admin and requires elevated access like cluster-admin role.\n",
    "\n",
    "If you want to know more about the overall design please consult Operate First's [Architectural Decision Records (ADR) archive](https://www.operate-first.cloud/blueprints/blueprint/#architectural-decisions).\n",
    "\n",
    "\n",
    "## Steps"
   ]
  },
  {
   "cell_type": "markdown",
   "metadata": {
    "tags": []
   },
   "source": [
    "### 1. Define important variables\n",
    "\n",
    "In this guide we will use a couple of facts about the project. To make it easier to follow this guide, let's define these values beforehand."
   ]
  },
  {
   "cell_type": "code",
   "execution_count": 1,
   "metadata": {},
   "outputs": [],
   "source": [
    "import json\n",
    "\n",
    "GITHUB_USERNAME = \"4n4nd\" # your github username\n",
    "\n",
    "GROUP_NAME=\"demo-group\"   # your desired team name\n",
    "\n",
    "MEMBERS_LIST = [GITHUB_USERNAME,] # list of LOWERCASE github usernames of the team members\n",
    "\n",
    "TEAM_MEMBERS=json.dumps([u.lower() for u in sorted(MEMBERS_LIST)]).replace(\"\\\"\", \"\\\\\\\"\")"
   ]
  },
  {
   "cell_type": "markdown",
   "metadata": {},
   "source": [
    "\n",
    "### 2. Fork and clone the apps repository\n",
    "\n",
    "Please fork/clone the [operate-first/apps](https://github.com/operate-first/apps) repository. We’ll be working within this repository only.\n",
    "\n",
    "1. Go to [operate-first/apps](https://github.com/operate-first/apps).\n",
    "2. Click on a fork button.\n",
    "3. When a fork is created click on the code button and copy an address of your forked repository.\n",
    "4. Run following command using copied address:"
   ]
  },
  {
   "cell_type": "code",
   "execution_count": 2,
   "metadata": {},
   "outputs": [
    {
     "name": "stdout",
     "output_type": "stream",
     "text": [
      "Cloning into 'apps'...\n",
      "remote: Enumerating objects: 15289, done.\u001b[K\n",
      "remote: Counting objects: 100% (1929/1929), done.\u001b[K\n",
      "remote: Compressing objects: 100% (564/564), done.\u001b[K\n",
      "remote: Total 15289 (delta 1408), reused 1675 (delta 1340), pack-reused 13360\u001b[K\n",
      "Receiving objects: 100% (15289/15289), 5.34 MiB | 7.95 MiB/s, done.\n",
      "Resolving deltas: 100% (7645/7645), done.\n",
      "/home/anand/Documents/4n4nd/hitchhikers-guide/pages/apps\n"
     ]
    }
   ],
   "source": [
    "!git clone https://github.com/{GITHUB_USERNAME}/apps.git\n",
    "%cd apps"
   ]
  },
  {
   "cell_type": "markdown",
   "metadata": {},
   "source": [
    "### 3. Creating group\n",
    "####  Base resources\n"
   ]
  },
  {
   "cell_type": "markdown",
   "metadata": {},
   "source": [
    "To create necessary resources we use opfcli which creates the following folders with files:\n",
    "\n",
    "- A blank user group for the `$GROUP_NAME` if it does not exist yet in the `cluster-scope/base/user.openshift.io/groups/$GROUP_NAME`."
   ]
  },
  {
   "cell_type": "code",
   "execution_count": 3,
   "metadata": {},
   "outputs": [
    {
     "name": "stdout",
     "output_type": "stream",
     "text": [
      "\u001b[36mINFO\u001b[0m[0000] writing group definition to /home/anand/Documents/4n4nd/hitchhikers-guide/pages/apps/cluster-scope/base/user.openshift.io/groups/demo-group \n"
     ]
    }
   ],
   "source": [
    "!opfcli create-group {GROUP_NAME}"
   ]
  },
  {
   "cell_type": "markdown",
   "metadata": {},
   "source": [
    "### 4. Populate your team\n",
    "By executing the next cell, you will add the users listed in `$MEMBERS_LIST` to the OpenShift group `$GROUP_NAME`."
   ]
  },
  {
   "cell_type": "code",
   "execution_count": 4,
   "metadata": {},
   "outputs": [
    {
     "name": "stdout",
     "output_type": "stream",
     "text": [
      "apiVersion: user.openshift.io/v1\n",
      "kind: Group\n",
      "metadata:\n",
      "  name: demo-group\n",
      "users: [4n4nd]\n"
     ]
    }
   ],
   "source": [
    "!yq e -i \".users = {TEAM_MEMBERS}\" cluster-scope/base/user.openshift.io/groups/{GROUP_NAME}/group.yaml\n",
    "!cat cluster-scope/base/user.openshift.io/groups/{GROUP_NAME}/group.yaml"
   ]
  },
  {
   "cell_type": "markdown",
   "metadata": {},
   "source": [
    "### 5. Add new team to common kustomization"
   ]
  },
  {
   "cell_type": "markdown",
   "metadata": {},
   "source": [
    "This will apply the newly created group manifest to all the exisitng Operate First clusters."
   ]
  },
  {
   "cell_type": "code",
   "execution_count": 5,
   "metadata": {},
   "outputs": [],
   "source": [
    "!cd cluster-scope/overlays/prod/common && kustomize edit add resource ../../../base/user.openshift.io/groups/{GROUP_NAME}"
   ]
  },
  {
   "cell_type": "markdown",
   "metadata": {},
   "source": [
    "## Finalize\n",
    "Please stage your changes and send them as a PR against the [operate-first/apps](https://github.com/operate-first/apps) repository. \n",
    "\n",
    ":::{note}\n",
    "Make sure that following files/ have been modified/added:\n",
    "- [x] `cluster-scope/base/user.openshift.io/groups/$GROUP_NAME/group.yaml`\n",
    "- [x] `cluster-scope/base/user.openshift.io/groups/$GROUP_NAME/kustomization.yaml`\n",
    "- [x] `cluster-scope/overlays/prod/common/kustomization.yaml`\n",
    ":::\n",
    "\n",
    "Once the PR is merged, all the desired changes should be applied."
   ]
  },
  {
   "cell_type": "code",
   "execution_count": 7,
   "metadata": {},
   "outputs": [
    {
     "name": "stdout",
     "output_type": "stream",
     "text": [
      "On branch master\n",
      "Your branch is up to date with 'origin/master'.\n",
      "\n",
      "Changes not staged for commit:\n",
      "  (use \"git add <file>...\" to update what will be committed)\n",
      "  (use \"git restore <file>...\" to discard changes in working directory)\n",
      "\t\u001b[31mmodified:   cluster-scope/overlays/prod/common/kustomization.yaml\u001b[m\n",
      "\n",
      "Untracked files:\n",
      "  (use \"git add <file>...\" to include in what will be committed)\n",
      "\t\u001b[31mcluster-scope/base/user.openshift.io/groups/demo-group/\u001b[m\n",
      "\n",
      "no changes added to commit (use \"git add\" and/or \"git commit -a\")\n",
      "[master d3cbed4] feat(onboarding): Add group demo-group\n",
      " 3 files changed, 58 insertions(+), 48 deletions(-)\n",
      " create mode 100644 cluster-scope/base/user.openshift.io/groups/demo-group/group.yaml\n",
      " create mode 100644 cluster-scope/base/user.openshift.io/groups/demo-group/kustomization.yaml\n",
      " rewrite cluster-scope/overlays/prod/common/kustomization.yaml (97%)\n",
      "Enumerating objects: 21, done.\n",
      "Counting objects: 100% (21/21), done.\n",
      "Delta compression using up to 12 threads\n",
      "Compressing objects: 100% (12/12), done.\n",
      "Writing objects: 100% (13/13), 1.53 KiB | 1.53 MiB/s, done.\n",
      "Total 13 (delta 5), reused 0 (delta 0), pack-reused 0\n",
      "remote: Resolving deltas: 100% (5/5), completed with 4 local objects.\u001b[K\n",
      "To https://github.com/4n4nd/apps.git\n",
      "   7506c89..d3cbed4  master -> master\n"
     ]
    }
   ],
   "source": [
    "!git status\n",
    "!git add .\n",
    "!git commit -m \"feat(onboarding): Add group {GROUP_NAME}\"\n",
    "!git push"
   ]
  }
 ],
 "metadata": {
  "interpreter": {
   "hash": "e7370f93d1d0cde622a1f8e1c04877d8463912d04d973331ad4851f04de6915a"
  },
  "kernelspec": {
   "display_name": "Python 3 (ipykernel)",
   "language": "python",
   "name": "python3"
  },
  "language_info": {
   "codemirror_mode": {
    "name": "ipython",
    "version": 3
   },
   "file_extension": ".py",
   "mimetype": "text/x-python",
   "name": "python",
   "nbconvert_exporter": "python",
   "pygments_lexer": "ipython3",
   "version": "3.8.11"
  }
 },
 "nbformat": 4,
 "nbformat_minor": 4
}
