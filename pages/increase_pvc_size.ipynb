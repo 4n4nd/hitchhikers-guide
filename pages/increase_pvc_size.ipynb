{
 "cells": [
  {
   "cell_type": "markdown",
   "source": [
    "# Increase size of a PVC in JupyterHub"
   ],
   "metadata": {}
  }
 ],
 "metadata": {
  "orig_nbformat": 4,
  "language_info": {
   "name": "plaintext"
  }
 },
 "nbformat": 4,
 "nbformat_minor": 2
}
